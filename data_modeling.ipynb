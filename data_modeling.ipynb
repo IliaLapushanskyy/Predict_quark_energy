{
 "cells": [
  {
   "cell_type": "code",
   "execution_count": 1,
   "id": "425b1551-84b3-4cfe-a5a8-aafd71190fdc",
   "metadata": {},
   "outputs": [],
   "source": [
    "import sys\n",
    "sys.path.append('/home/ilia/pythia8313-install/lib/')\n",
    "\n",
    "import pickle\n",
    "import gzip\n",
    "import glob\n",
    "import torch\n",
    "import torch.nn as nn\n",
    "import torch.nn.functional as F\n",
    "import torch.optim as optim\n",
    "from torch.optim.lr_scheduler import ReduceLROnPlateau\n",
    "from torch_geometric.data import Data\n",
    "from torch_geometric.nn import GCNConv, global_mean_pool, GATConv\n",
    "from torch_geometric.loader import DataLoader\n",
    "from sklearn.model_selection import train_test_split\n",
    "from sklearn.metrics import mean_absolute_error, r2_score\n",
    "from sklearn.preprocessing import StandardScaler\n",
    "import matplotlib.pyplot as plt\n",
    "import numpy as np\n",
    "from itertools import product\n",
    "from pythia8 import Pythia\n",
    "import fastjet\n",
    "from safe_root import ROOT"
   ]
  },
  {
   "cell_type": "code",
   "execution_count": 2,
   "id": "6ec0ce78-7a68-4567-8a3b-1959a0f674ae",
   "metadata": {},
   "outputs": [
    {
     "data": {
      "text/plain": [
       "True"
      ]
     },
     "execution_count": 2,
     "metadata": {},
     "output_type": "execute_result"
    }
   ],
   "source": [
    "# Определяем структуру данных\n",
    "ROOT.gInterpreter.Declare('''\n",
    "struct EventData {\n",
    "    Int_t event_id;\n",
    "    Float_t Tar;\n",
    "    std::vector<Float_t> px;\n",
    "    std::vector<Float_t> py;\n",
    "    std::vector<Float_t> pz;\n",
    "    std::vector<Float_t> e;\n",
    "    Int_t nParticles;\n",
    "};\n",
    "''')"
   ]
  },
  {
   "cell_type": "code",
   "execution_count": null,
   "id": "4c30827b-2c26-4ccd-a57c-c12576dc1edf",
   "metadata": {},
   "outputs": [],
   "source": [
    "# Настройки генерации\n",
    "pTHatMin_values = [0, 2, 3, 4, 5]\n",
    "nEvent = 10000000\n",
    "etaMax = 5.0\n",
    "minPT = 0.25\n",
    "\n",
    "for pTHatMin in pTHatMin_values:\n",
    "\n",
    "    print(f\"Генерация pTHatMin = {pTHatMin}...\")\n",
    "\n",
    "    # Создаем отдельный файл для каждого pTHatMin\n",
    "    file_name = f\"pythia_pTHatMin_{pTHatMin}.root\"\n",
    "    root_file = ROOT.TFile(file_name, \"RECREATE\")\n",
    "    \n",
    "    # Создаем TTree\n",
    "    tree = ROOT.TTree(\"events\", f\"Events for pTHatMin={pTHatMin}\")\n",
    "    event_data = ROOT.EventData()\n",
    "    tree.Branch(\"event\", event_data)\n",
    "    \n",
    "    pythia = Pythia()\n",
    "    pythia.readString(\"Beams:idA = 2212\")\n",
    "    pythia.readString(\"Beams:idB = 2212\")\n",
    "    pythia.readString(\"Beams:eCM = 27.\")\n",
    "    pythia.readString(\"HardQCD:all = on\")\n",
    "    pythia.readString(f\"PhaseSpace:pTHatMin = {pTHatMin}\")\n",
    "    pythia.init()\n",
    "\n",
    "    for i in range(nEvent):\n",
    "        if not pythia.next(): continue\n",
    "\n",
    "        if i % 1000 == 0:\n",
    "            print(f\"pTHatMin={pTHatMin}: События - {i}\", end='\\r')\n",
    "        \n",
    "        # Очищаем векторы для нового события\n",
    "        event_data.px.clear()\n",
    "        event_data.py.clear()\n",
    "        event_data.pz.clear()\n",
    "        event_data.e.clear()\n",
    "\n",
    "        Tar = None\n",
    "        for p in pythia.event:\n",
    "            if abs(p.status()) == 23:\n",
    "                Tar = p.pT()\n",
    "                break\n",
    "        if Tar < 1: continue\n",
    "        \n",
    "        for p in pythia.event:\n",
    "            if not p.isFinal(): continue\n",
    "            if not p.isVisible(): continue\n",
    "            if abs(p.eta()) > etaMax: continue\n",
    "            if p.pT() < minPT: continue\n",
    "\n",
    "            event_data.px.push_back(p.px())\n",
    "            event_data.py.push_back(p.py())\n",
    "            event_data.pz.push_back(p.pz())\n",
    "            event_data.e.push_back(p.e())\n",
    "\n",
    "        event_data.event_id = i  \n",
    "        event_data.Tar = Tar\n",
    "        event_data.nParticles = len(event_data.px)\n",
    "        tree.Fill()\n",
    "\n",
    "        \n",
    "root_file.Write()\n",
    "root_file.Close()"
   ]
  }
 ],
 "metadata": {
  "kernelspec": {
   "display_name": "Python 3 (ipykernel)",
   "language": "python",
   "name": "python3"
  },
  "language_info": {
   "codemirror_mode": {
    "name": "ipython",
    "version": 3
   },
   "file_extension": ".py",
   "mimetype": "text/x-python",
   "name": "python",
   "nbconvert_exporter": "python",
   "pygments_lexer": "ipython3",
   "version": "3.13.2"
  }
 },
 "nbformat": 4,
 "nbformat_minor": 5
}
