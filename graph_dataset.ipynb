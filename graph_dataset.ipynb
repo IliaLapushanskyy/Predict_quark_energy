{
 "cells": [
  {
   "cell_type": "code",
   "execution_count": 1,
   "id": "65607c79-fcb7-4043-8c0d-347f019643e9",
   "metadata": {},
   "outputs": [],
   "source": [
    "import sys\n",
    "sys.path.append('/home/ilia/pythia8313-install/lib/')\n",
    "\n",
    "import pickle\n",
    "import gzip\n",
    "import glob\n",
    "import math\n",
    "import torch\n",
    "import torch.nn as nn\n",
    "import torch.nn.functional as F\n",
    "import torch.optim as optim\n",
    "from torch.nn import Linear, Dropout, BatchNorm1d, LeakyReLU\n",
    "from torch.optim.lr_scheduler import ReduceLROnPlateau\n",
    "from torch_geometric.data import Data\n",
    "from torch_geometric.nn import GCNConv, global_mean_pool, GATConv, GINConv, global_add_pool, SAGEConv, JumpingKnowledge, PNAConv\n",
    "from torch_geometric.loader import DataLoader\n",
    "from sklearn.model_selection import train_test_split\n",
    "from sklearn.metrics import mean_absolute_error, r2_score\n",
    "from sklearn.preprocessing import StandardScaler\n",
    "import matplotlib.pyplot as plt\n",
    "import numpy as np\n",
    "from itertools import product\n",
    "from pythia8 import Pythia\n",
    "import fastjet as fj\n",
    "from safe_root import ROOT\n",
    "import pandas as pd"
   ]
  },
  {
   "cell_type": "code",
   "execution_count": 2,
   "id": "0be4094d-dbb1-4390-8a67-33bb4d7bd9aa",
   "metadata": {},
   "outputs": [
    {
     "data": {
      "text/plain": [
       "True"
      ]
     },
     "execution_count": 2,
     "metadata": {},
     "output_type": "execute_result"
    }
   ],
   "source": [
    "# Определяем структуру данных\n",
    "ROOT.gInterpreter.Declare('''\n",
    "struct EventData {\n",
    "    Int_t event_id;\n",
    "    Float_t Tar;\n",
    "    std::vector<Float_t> px;\n",
    "    std::vector<Float_t> py;\n",
    "    std::vector<Float_t> pz;\n",
    "    std::vector<Float_t> e;\n",
    "    Int_t nParticles;\n",
    "};\n",
    "''')"
   ]
  },
  {
   "cell_type": "code",
   "execution_count": null,
   "id": "7399f3f4-0c86-41ba-ac4d-b052ee1d0312",
   "metadata": {},
   "outputs": [],
   "source": [
    "pTMin_list = [1, 2, 3, 4, 5]\n",
    "R_list = [0.4, 0.8]\n",
    "R = 0.4\n",
    "pTHatMin_list = [0, 2, 3, 4, 5]\n",
    "#output_file = \"jets_output.pkl.gz\"\n",
    "MAX_EVENTS = 10000\n",
    "dataset = []\n",
    "\n",
    "for current_pTHatMin in pTHatMin_list:\n",
    "\n",
    "    if current_pTHatMin == 0: MAX_EVENTS = 1000000\n",
    "    if current_pTHatMin == 2: MAX_EVENTS = 25000\n",
    "    if current_pTHatMin == 3: MAX_EVENTS = 20000\n",
    "    if current_pTHatMin == 4: MAX_EVENTS = 15000\n",
    "    if current_pTHatMin == 5: MAX_EVENTS = 12500\n",
    "    \n",
    "    file_path = f\"pythia_pTHatMin_{current_pTHatMin}.root\"\n",
    "\n",
    "    print(f\"Начало цикла = {current_pTHatMin}\")\n",
    "    \n",
    "    root_file = ROOT.TFile(file_path)\n",
    "    tree = root_file.Get(\"events\")\n",
    "\n",
    "    # Подготовка для чтения\n",
    "    event_struct = ROOT.EventData()\n",
    "    tree.SetBranchAddress(\"event\", event_struct)\n",
    "\n",
    "    for current_pTMin in pTMin_list:\n",
    "        event_count = 0  # Счетчик для текущей комбинации параметров\n",
    "        \n",
    "        # Цикл по событиям\n",
    "        for event_num in range(tree.GetEntries()):\n",
    "            if event_count >= MAX_EVENTS:\n",
    "                break  # Переходим к следующему pTMin\n",
    "\n",
    "            tree.GetEntry(event_num)\n",
    "\n",
    "            # Сбор частиц\n",
    "            particles_in_event = [\n",
    "                {'px': event_struct.px[i], 'py': event_struct.py[i], \n",
    "                 'pz': event_struct.pz[i], 'e': event_struct.e[i]}\n",
    "                for i in range(event_struct.nParticles)\n",
    "            ]\n",
    "\n",
    "            # Реконструкция струй\n",
    "            input_for_fastjet = [fj.PseudoJet(p['px'], p['py'], p['pz'], p['e']) \n",
    "                                for p in particles_in_event]\n",
    "            jet_algorithm = fj.JetDefinition(fj.antikt_algorithm, R)\n",
    "            clustering = fj.ClusterSequence(input_for_fastjet, jet_algorithm)\n",
    "            sorted_jets = sorted(clustering.inclusive_jets(current_pTMin), key=lambda jet: -jet.pt())\n",
    "\n",
    "            if len(sorted_jets) < 2: continue\n",
    "            if len(sorted_jets[0].constituents()) < 2: continue \n",
    "            if len(sorted_jets[1].constituents()) < 2: continue\n",
    "\n",
    "            pt_1 = sorted_jets[0].pt()\n",
    "            pt_2 = sorted_jets[1].pt()\n",
    "\n",
    "            if (pt_2 / pt_1) < 0.9: continue\n",
    "    \n",
    "            dPhiii = sorted_jets[0].phi_std() - sorted_jets[1].phi_std()\n",
    "            if dPhiii > math.pi: \n",
    "                dPhiii = dPhiii - 2 * math.pi\n",
    "            if dPhiii < -math.pi: \n",
    "                dPhiii = dPhiii + 2 * math.pi\n",
    "\n",
    "            if abs(dPhiii) < 2.7: continue\n",
    "        \n",
    "            # Создание графа\n",
    "            jets = [sorted_jets[0], sorted_jets[1]]\n",
    "            x_list = []\n",
    "            edge_index = []\n",
    "\n",
    "            offset = 0\n",
    "\n",
    "\n",
    "            # Цикл струя-граф\n",
    "            for jet in jets:\n",
    "                constituents = jet.constituents()\n",
    "                num_nodes = len(constituents)\n",
    "\n",
    "                # Добавим фичи узлов\n",
    "                for p in constituents:\n",
    "                    x_list.append([p.px(), p.py(), p.pz(), p.e()])\n",
    "\n",
    "                # Добавим все связи между частицами (полносвязный граф)\n",
    "                for i in range(num_nodes):\n",
    "                    for j in range(num_nodes):\n",
    "                        edge_index.append([offset + i, offset + j])\n",
    "\n",
    "                offset += num_nodes\n",
    "            \n",
    "            x_tensor = torch.tensor(x_list, dtype=torch.float)\n",
    "            edge_index_tensor = torch.tensor(edge_index, dtype=torch.long).t().contiguous()\n",
    "            y_tensor = torch.tensor([event_struct.Tar], dtype=torch.float)\n",
    "\n",
    "            if event_struct.Tar > 6: continue\n",
    "            \n",
    "            data = Data(x=x_tensor, edge_index=edge_index_tensor, y=y_tensor)\n",
    "            dataset.append(data)\n",
    "\n",
    "            event_count += 1\n",
    "\n",
    "            if event_count % 100 == 0:\n",
    "                print(f\"pTHatMin={current_pTHatMin}, pTMin={current_pTMin}: {event_count}/{MAX_EVENTS}\")\n"
   ]
  },
  {
   "cell_type": "code",
   "execution_count": null,
   "id": "0dcbc673-a64b-44b7-a012-b6dac31b6751",
   "metadata": {},
   "outputs": [],
   "source": [
    "# Сохранение dataset\n",
    "with gzip.open('jet_dataset.pkl.gz', 'wb') as f:\n",
    "    pickle.dump(dataset, f, protocol=pickle.HIGHEST_PROTOCOL)"
   ]
  },
  {
   "cell_type": "code",
   "execution_count": 4,
   "id": "615905b5-ee10-4ac3-adab-f176d2cb4826",
   "metadata": {},
   "outputs": [],
   "source": [
    "# Загрузка dataset\n",
    "with gzip.open('jet_dataset.pkl.gz', 'rb') as f:\n",
    "    dataset = pickle.load(f)"
   ]
  },
  {
   "cell_type": "code",
   "execution_count": 5,
   "id": "7507cab1-907d-4458-a648-af721e9d017b",
   "metadata": {},
   "outputs": [
    {
     "name": "stdout",
     "output_type": "stream",
     "text": [
      "\n",
      "Общая статистика:\n",
      "Всего графов: 587388\n",
      "Среднее количество узлов на граф: 5.47\n",
      "Среднее количество ребер на граф: 16.76\n"
     ]
    }
   ],
   "source": [
    "print(f\"\\nОбщая статистика:\")\n",
    "print(f\"Всего графов: {len(dataset)}\")\n",
    "print(f\"Среднее количество узлов на граф: {np.mean([data.num_nodes for data in dataset]):.2f}\")\n",
    "print(f\"Среднее количество ребер на граф: {np.mean([data.edge_index.shape[1] for data in dataset]):.2f}\")"
   ]
  },
  {
   "cell_type": "code",
   "execution_count": null,
   "id": "6a22343e-9c60-424f-a6b6-7889fedb525a",
   "metadata": {},
   "outputs": [],
   "source": []
  }
 ],
 "metadata": {
  "kernelspec": {
   "display_name": "Python 3 (ipykernel)",
   "language": "python",
   "name": "python3"
  },
  "language_info": {
   "codemirror_mode": {
    "name": "ipython",
    "version": 3
   },
   "file_extension": ".py",
   "mimetype": "text/x-python",
   "name": "python",
   "nbconvert_exporter": "python",
   "pygments_lexer": "ipython3",
   "version": "3.13.2"
  }
 },
 "nbformat": 4,
 "nbformat_minor": 5
}
